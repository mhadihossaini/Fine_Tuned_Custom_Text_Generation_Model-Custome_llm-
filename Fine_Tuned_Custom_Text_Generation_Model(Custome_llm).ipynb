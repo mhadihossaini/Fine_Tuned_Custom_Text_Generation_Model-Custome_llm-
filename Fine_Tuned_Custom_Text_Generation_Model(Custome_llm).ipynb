{
 "cells": [
  {
   "cell_type": "markdown",
   "id": "1f9bc39c",
   "metadata": {},
   "source": [
    "### Fine_Tuned_Custom_Text_Generation_Model(Custome_LLM)"
   ]
  },
  {
   "cell_type": "markdown",
   "id": "ba4fbc3d",
   "metadata": {},
   "source": [
    "### Import the libraries"
   ]
  },
  {
   "cell_type": "code",
   "execution_count": 8,
   "id": "d8e3bd51",
   "metadata": {},
   "outputs": [],
   "source": [
    "# -Import the required libraries \n",
    "import tensorflow as tf\n",
    "import pandas as pd\n",
    "import numpy as np\n",
    "from tensorflow.keras.preprocessing.text import Tokenizer\n",
    "from tensorflow.keras.preprocessing.sequence import pad_sequences\n",
    "from transformers import TFBertForSequenceClassification, BertTokenizer\n",
    "from sklearn.model_selection import train_test_split\n",
    "import pickle"
   ]
  },
  {
   "cell_type": "code",
   "execution_count": 4,
   "id": "7c170bcf",
   "metadata": {
    "scrolled": false
   },
   "outputs": [
    {
     "name": "stderr",
     "output_type": "stream",
     "text": [
      "2023-09-16 01:37:44.293494: I tensorflow/core/common_runtime/process_util.cc:146] Creating new thread pool with default inter op setting: 2. Tune using inter_op_parallelism_threads for best performance.\n",
      "2023-09-16 01:37:44.965803: I tensorflow/core/common_runtime/executor.cc:1197] [/device:CPU:0] (DEBUG INFO) Executor start aborting (this does not indicate an error and you can ignore this message): INVALID_ARGUMENT: You must feed a value for placeholder tensor 'gradients/split_2_grad/concat/split_2/split_dim' with dtype int32\n",
      "\t [[{{node gradients/split_2_grad/concat/split_2/split_dim}}]]\n",
      "2023-09-16 01:37:44.968565: I tensorflow/core/common_runtime/executor.cc:1197] [/device:CPU:0] (DEBUG INFO) Executor start aborting (this does not indicate an error and you can ignore this message): INVALID_ARGUMENT: You must feed a value for placeholder tensor 'gradients/split_grad/concat/split/split_dim' with dtype int32\n",
      "\t [[{{node gradients/split_grad/concat/split/split_dim}}]]\n",
      "2023-09-16 01:37:44.971066: I tensorflow/core/common_runtime/executor.cc:1197] [/device:CPU:0] (DEBUG INFO) Executor start aborting (this does not indicate an error and you can ignore this message): INVALID_ARGUMENT: You must feed a value for placeholder tensor 'gradients/split_1_grad/concat/split_1/split_dim' with dtype int32\n",
      "\t [[{{node gradients/split_1_grad/concat/split_1/split_dim}}]]\n"
     ]
    },
    {
     "name": "stdout",
     "output_type": "stream",
     "text": [
      "Epoch 1/10\n"
     ]
    },
    {
     "name": "stderr",
     "output_type": "stream",
     "text": [
      "2023-09-16 01:37:47.307425: I tensorflow/core/common_runtime/executor.cc:1197] [/device:CPU:0] (DEBUG INFO) Executor start aborting (this does not indicate an error and you can ignore this message): INVALID_ARGUMENT: You must feed a value for placeholder tensor 'gradients/split_2_grad/concat/split_2/split_dim' with dtype int32\n",
      "\t [[{{node gradients/split_2_grad/concat/split_2/split_dim}}]]\n",
      "2023-09-16 01:37:47.310640: I tensorflow/core/common_runtime/executor.cc:1197] [/device:CPU:0] (DEBUG INFO) Executor start aborting (this does not indicate an error and you can ignore this message): INVALID_ARGUMENT: You must feed a value for placeholder tensor 'gradients/split_grad/concat/split/split_dim' with dtype int32\n",
      "\t [[{{node gradients/split_grad/concat/split/split_dim}}]]\n",
      "2023-09-16 01:37:47.313593: I tensorflow/core/common_runtime/executor.cc:1197] [/device:CPU:0] (DEBUG INFO) Executor start aborting (this does not indicate an error and you can ignore this message): INVALID_ARGUMENT: You must feed a value for placeholder tensor 'gradients/split_1_grad/concat/split_1/split_dim' with dtype int32\n",
      "\t [[{{node gradients/split_1_grad/concat/split_1/split_dim}}]]\n",
      "2023-09-16 01:37:48.815237: I tensorflow/core/common_runtime/executor.cc:1197] [/device:CPU:0] (DEBUG INFO) Executor start aborting (this does not indicate an error and you can ignore this message): INVALID_ARGUMENT: You must feed a value for placeholder tensor 'gradients/split_2_grad/concat/split_2/split_dim' with dtype int32\n",
      "\t [[{{node gradients/split_2_grad/concat/split_2/split_dim}}]]\n",
      "2023-09-16 01:37:48.818614: I tensorflow/core/common_runtime/executor.cc:1197] [/device:CPU:0] (DEBUG INFO) Executor start aborting (this does not indicate an error and you can ignore this message): INVALID_ARGUMENT: You must feed a value for placeholder tensor 'gradients/split_grad/concat/split/split_dim' with dtype int32\n",
      "\t [[{{node gradients/split_grad/concat/split/split_dim}}]]\n",
      "2023-09-16 01:37:48.821558: I tensorflow/core/common_runtime/executor.cc:1197] [/device:CPU:0] (DEBUG INFO) Executor start aborting (this does not indicate an error and you can ignore this message): INVALID_ARGUMENT: You must feed a value for placeholder tensor 'gradients/split_1_grad/concat/split_1/split_dim' with dtype int32\n",
      "\t [[{{node gradients/split_1_grad/concat/split_1/split_dim}}]]\n"
     ]
    },
    {
     "name": "stdout",
     "output_type": "stream",
     "text": [
      "1784/1784 [==============================] - 294s 162ms/step - loss: 6.6714 - accuracy: 0.1171\n",
      "Epoch 2/10\n",
      "1784/1784 [==============================] - 310s 174ms/step - loss: 5.4071 - accuracy: 0.1831\n",
      "Epoch 3/10\n",
      "1784/1784 [==============================] - 315s 177ms/step - loss: 4.5830 - accuracy: 0.2305\n",
      "Epoch 4/10\n",
      "1784/1784 [==============================] - 304s 171ms/step - loss: 3.7905 - accuracy: 0.2960\n",
      "Epoch 5/10\n",
      "1784/1784 [==============================] - 320s 179ms/step - loss: 3.0612 - accuracy: 0.3937\n",
      "Epoch 6/10\n",
      "1784/1784 [==============================] - 322s 180ms/step - loss: 2.4284 - accuracy: 0.5011\n",
      "Epoch 7/10\n",
      "1784/1784 [==============================] - 320s 180ms/step - loss: 1.8938 - accuracy: 0.6076\n",
      "Epoch 8/10\n",
      "1784/1784 [==============================] - 306s 171ms/step - loss: 1.4580 - accuracy: 0.7015\n",
      "Epoch 9/10\n",
      "1784/1784 [==============================] - 301s 169ms/step - loss: 1.0944 - accuracy: 0.7837\n",
      "Epoch 10/10\n",
      "1784/1784 [==============================] - 302s 169ms/step - loss: 0.8065 - accuracy: 0.8499\n"
     ]
    }
   ],
   "source": [
    "\n",
    "# -Load your pre-trained custom language model-\n",
    "custom_model = tf.keras.models.load_model('custom_llm_model.h5')\n",
    "\n",
    "# Load your custom dataset from a CSV file-\n",
    "dataset_path = 'fine_tuning_dataset.csv' \n",
    "df = pd.read_csv(dataset_path)\n",
    "\n",
    "# -Combine 'Text' and 'Description' columns into a single corpus-\n",
    "corpus = df['Text'] + \" \" + df['Description']\n",
    "\n",
    "# -Tokenize the text data-\n",
    "vocab_size = 50000  \n",
    "max_seq_length = 50  \n",
    "\n",
    "tokenizer = Tokenizer(num_words=vocab_size, oov_token=\"<OOV>\")\n",
    "tokenizer.fit_on_texts(corpus)\n",
    "\n",
    "# -Convert text to sequences-\n",
    "X_sequences = tokenizer.texts_to_sequences(corpus)\n",
    "\n",
    "# -Create training sequences (X_train) and labels (y_train) for text generation-\n",
    "sequences = []\n",
    "for seq in X_sequences:\n",
    "    for i in range(1, len(seq)):\n",
    "        sequences.append(seq[:i+1])\n",
    "\n",
    "# -Pad sequences-\n",
    "X_padded = pad_sequences(sequences, maxlen=max_seq_length, padding='pre', truncating='pre')\n",
    "y_train = X_padded[:, -1]\n",
    "X_train = X_padded[:, :-1]\n",
    "\n",
    "# -Compile and train the model-\n",
    "optimizer = tf.keras.optimizers.Adam(learning_rate=0.001)  # Adjusting the learning rate\n",
    "custom_model.compile(optimizer=optimizer, loss='sparse_categorical_crossentropy', metrics=['accuracy'])\n",
    "custom_model.fit(X_train, y_train, epochs=10, batch_size=32)\n"
   ]
  },
  {
   "cell_type": "markdown",
   "id": "9471ebb5",
   "metadata": {},
   "source": [
    "### Save the tokenizer using pickle"
   ]
  },
  {
   "cell_type": "code",
   "execution_count": 10,
   "id": "bbed4baa",
   "metadata": {},
   "outputs": [],
   "source": [
    "# Save the tokenizer to a file using pickle\n",
    "with open('fine_tuned_tokenizer.pickle', 'wb') as tokenizer_file:\n",
    "    pickle.dump(tokenizer, tokenizer_file)"
   ]
  },
  {
   "cell_type": "markdown",
   "id": "92433944",
   "metadata": {},
   "source": [
    "### Save the fine_tuned model"
   ]
  },
  {
   "cell_type": "code",
   "execution_count": 11,
   "id": "e743f384",
   "metadata": {},
   "outputs": [],
   "source": [
    "# -Save the fine-tuned model-\n",
    "custom_model.save('fine_tuned_custom_model.h5')"
   ]
  }
 ],
 "metadata": {
  "kernelspec": {
   "display_name": "Python 3 (ipykernel)",
   "language": "python",
   "name": "python3"
  },
  "language_info": {
   "codemirror_mode": {
    "name": "ipython",
    "version": 3
   },
   "file_extension": ".py",
   "mimetype": "text/x-python",
   "name": "python",
   "nbconvert_exporter": "python",
   "pygments_lexer": "ipython3",
   "version": "3.11.4"
  }
 },
 "nbformat": 4,
 "nbformat_minor": 5
}
